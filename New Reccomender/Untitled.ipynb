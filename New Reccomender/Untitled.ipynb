{
 "cells": [
  {
   "cell_type": "code",
   "execution_count": 23,
   "id": "26afe870",
   "metadata": {},
   "outputs": [
    {
     "name": "stdout",
     "output_type": "stream",
     "text": [
      "All Modules Loaded ......\n"
     ]
    }
   ],
   "source": [
    "from newsapi import NewsApiClient\n",
    "try:\n",
    "    from math import log10\n",
    "    from sklearn.feature_extraction.text import CountVectorizer\n",
    "    from collections import Counter\n",
    "    import datetime\n",
    "    print(\"All Modules Loaded ......\")\n",
    "except Exception as e:\n",
    "    print(\"Some Modules are Missing : {} \".format(e))\n",
    "import pandas as pd"
   ]
  },
  {
   "cell_type": "code",
   "execution_count": 30,
   "id": "12a2b1fd",
   "metadata": {},
   "outputs": [
    {
     "name": "stdout",
     "output_type": "stream",
     "text": [
      "Enter the Category of news:covid\n",
      "If youre fully vaccinated against COVID-19, youve probably breathed a sigh of relief. But how long can you expect that feeling to last? The CDC has yet to hazard a guess as to the durability of post-… [+1928 chars]\n"
     ]
    }
   ],
   "source": [
    "api = NewsApiClient(api_key='a6d254ce146549c6a9a1af92483dba69')\n",
    "category = input(\"Enter the Category of news:\")\n",
    "data = api.get_everything(q= category)\n",
    "print(data['articles'][0]['content'])"
   ]
  },
  {
   "cell_type": "code",
   "execution_count": 27,
   "id": "0fdd6e93",
   "metadata": {},
   "outputs": [],
   "source": [
    "class TextCleaner(object):\n",
    "    def __init__(self, doc):\n",
    "        self.doc = [str(doc)]\n",
    "\n",
    "    def process(self):\n",
    "        \"\"\"\n",
    "        Remove the Stop words\n",
    "        :return: List []\n",
    "        \"\"\"\n",
    "        vectorizer = CountVectorizer()\n",
    "        X = vectorizer.fit_transform(self.doc)\n",
    "        corpus = vectorizer.get_feature_names()\n",
    "        return corpus\n",
    "\n",
    "class WordFrequency(object):\n",
    "\n",
    "    def __init__(self, data):\n",
    "        self.data = data\n",
    "\n",
    "    def process(self):\n",
    "        \"\"\"\n",
    "        Gets the Frequency Count\n",
    "        :return: Json\n",
    "        \"\"\"\n",
    "        data = Counter(self.data)\n",
    "        return data\n",
    "\n",
    "def main(json,query):\n",
    "    helper = TextCleaner(doc=json)\n",
    "    corpus = helper.process()           # get the Bags of Words\n",
    "    print(corpus)\n",
    "\n",
    "    helper = WordFrequency(data=corpus)\n",
    "    corpus_freq = helper.process()      # get the Json of Words freq\n",
    "\n",
    "    # Step 2:\n",
    "    helper = TextCleaner(doc=query)\n",
    "    vocubulary = helper.process()         # get the Bags of Words\n",
    "\n",
    "    freq = []\n",
    "    for key in vocubulary:\n",
    "        try:\n",
    "            tem = corpus_freq[key]\n",
    "            freq.append(tem)\n",
    "        except Exception:\n",
    "            pass\n",
    "\n",
    "\n",
    "    score  = sum(freq) /len(corpus)\n",
    "    score = log10(len(corpus))\n",
    "    return score"
   ]
  },
  {
   "cell_type": "code",
   "execution_count": 28,
   "id": "5feac4c1",
   "metadata": {},
   "outputs": [
    {
     "name": "stdout",
     "output_type": "stream",
     "text": [
      "['19', '1928', 'against', 'as', 'breathed', 'but', 'can', 'cdc', 'chars', 'covid', 'durability', 'expect', 'feeling', 'fully', 'guess', 'has', 'hazard', 'how', 'if', 'last', 'long', 'of', 'post', 'probably', 'relief', 'sigh', 'that', 'the', 'to', 'vaccinated', 'yet', 'you', 'youre', 'youve']\n",
      "Score. {} 1.5314789170422551\n",
      "['1529', '19', 'adults', 'ago', 'all', 'and', 'appointments', 'are', 'as', 'chai', 'chars', 'covid', 'easier', 'eligible', 'few', 'find', 'getting', 'in', 'live', 'make', 'matter', 'no', 'now', 'of', 'pharmacy', 'several', 'state', 'the', 'to', 'vaccine', 'vaccines', 'weeks', 'what', 'you']\n",
      "Score. {} 1.5314789170422551\n",
      "['3620', 'about', 'all', 'alleviates', 'an', 'but', 'chars', 'health', 'help', 'hesitancy', 'in', 'increasingly', 'information', 'is', 'it', 'like', 'looks', 'more', 'numbers', 'old', 'or', 'overwhelm', 'people', 'public', 'question', 'rather', 'the', 'them', 'these', 'this', 'vaccines', 'worldwhether']\n",
      "Score. {} 1.505149978319906\n",
      "['4047', 'and', 'chars', 'cr', 'deal', 'drug', 'fact', 'fda', 'feels', 'for', 'giant', 'good', 'guidelines', 'identified', 'in', 'issued', 'kinds', 'like', 'new', 'of', 'others', 'pipeline', 'problems', 'set', 'that', 'the', 'this', 'to', 'trial', 'way', 'week', 'with', 'woodcock', 'woodcocks']\n",
      "Score. {} 1.5314789170422551\n",
      "['1464', '19', 'and', 'arrangements', 'as', 'changed', 'chars', 'corresponding', 'covid', 'effec', 'from', 'has', 'have', 'home', 'in', 'increase', 'large', 'lockdowns', 'medical', 'pandemic', 'scale', 'shift', 'the', 'to', 'waste', 'way', 'well', 'work', 'works', 'world', 'would']\n",
      "Score. {} 1.4913616938342726\n",
      "['330', '3724', 'ago', 'an', 'ancient', 'and', 'animal', 'are', 'area', 'been', 'chars', 'even', 'example', 'for', 'fossils', 'have', 'indentations', 'is', 'jam', 'lake', 'little', 'made', 'million', 'now', 'of', 'once', 'packed', 'plant', 'rain', 'that', 'there', 'traces', 'was', 'which', 'with', 'years']\n",
      "Score. {} 1.5563025007672873\n",
      "['19', '5350', 'and', 'be', 'by', 'chars', 'colors', 'covid', 'ethan', 'first', 'flying', 'for', 'getty', 'have', 'helping', 'images', 'miller', 'our', 'passed', 'photo', 'protected', 'should', 'slow', 'tests', 'their', 'they', 'theyre', 'to', 'unbelievably', 'vaccines', 'we', 'well', 'with', 'work', 'years']\n",
      "Score. {} 1.5440680443502757\n",
      "['4084', 'and', 'as', 'brazil', 'by', 'cases', 'chars', 'diagnosed', 'difficult', 'first', 'global', 'half', 'in', 'india', 'its', 'many', 'moment', 'monthsled', 'more', 'occu', 'of', 'pandemic', 'pandemics', 'past', 'six', 'than', 'the', 'those', 'two', 'weeks', 'were', 'where']\n",
      "Score. {} 1.505149978319906\n",
      "['1707', 'also', 'and', 'appear', 'behavior', 'behind', 'chars', 'countries', 'exceeded', 'factors', 'has', 'have', 'helped', 'helps', 'improvement', 'in', 'india', 'it', 'new', 'number', 'of', 'on', 'other', 'restrictions', 'rising', 'several', 'some', 'the', 'to', 'vaccinations', 'whats']\n",
      "Score. {} 1.4913616938342726\n",
      "['3594', 'across', 'administered', 'an', 'are', 'begging', 'but', 'chars', 'city', 'cries', 'deserted', 'desperation', 'for', 'from', 'hear', 'in', 'india', 'indian', 'kashmir', 'live', 'lockdown', 'of', 'son', 'srinagar', 'streets', 'the', 'through', 'twitter', 'under', 'where']\n",
      "Score. {} 1.4771212547196624\n",
      "['7382', 'advice', 'all', 'and', 'be', 'bit', 'chars', 'computer', 'conscience', 'dude', 'equipped', 'for', 'from', 'guy', 'honesty', 'im', 'luckily', 'merit', 'more', 'need', 'not', 'nothing', 'of', 'problems', 'professional', 'sometimes', 'than', 'that', 'unvarnished', 'with', 'you', 'your']\n",
      "Score. {} 1.505149978319906\n",
      "['19', '4951', 'across', 'chars', 'covid', 'digital', 'eu', 'european', 'for', 'gone', 'handful', 'has', 'live', 'mem', 'of', 'or', 'pan', 'pass', 'plan', 'region', 'status', 'system', 'technical', 'test', 'the', 'today', 'underpinning', 'union', 'vaccination', 'verifying', 'with']\n",
      "Score. {} 1.4913616938342726\n",
      "['3316', 'able', 'at', 'chars', 'distractions', 'free', 'fully', 'her', 'in', 'life', 'many', 'more', 'now', 'of', 'one', 'ordinary', 'participate', 'patients', 'so', 'some', 'specializes', 'spoke', 'the', 'their', 'therapist', 'to', 'trauma', 'treatment', 'who', 'witnessed']\n",
      "Score. {} 1.4771212547196624\n",
      "['1277', 'acciden', 'also', 'and', 'antibodies', 'are', 'being', 'better', 'chars', 'dont', 'have', 'health', 'infected', 'is', 'needed', 'no', 'officials', 'paul', 'producing', 'prove', 'said', 'seatbelts', 'than', 'that', 'the', 'they', 'to', 'vaccine']\n",
      "Score. {} 1.4471580313422192\n",
      "['4772', 'and', 'are', 'better', 'chars', 'continually', 'covid', 'disease', 'experts', 'fo', 'get', 'give', 'infection', 'infectious', 'many', 'much', 'of', 'one', 'protection', 'reasons', 'rigorously', 'say', 'shot', 'tested', 'than', 'that', 'to', 'us', 'vaccines', 'which']\n",
      "Score. {} 1.4771212547196624\n",
      "['3731', 'again', 'and', 'any', 'as', 'ask', 'chars', 'checkers', 'credibility', 'does', 'gained', 'has', 'have', 'hypothesis', 'if', 'journaleditorialists', 'lab', 'leak', 'let', 'me', 'mean', 'of', 'or', 'postfact', 'street', 'that', 'the', 'virus', 'wall', 'washington', 'written']\n",
      "Score. {} 1.4913616938342726\n",
      "['2168', 'activists', 'administrations', 'an', 'been', 'being', 'biden', 'chars', 'committed', 'decision', 'for', 'global', 'have', 'health', 'historic', 'is', 'it', 'just', 'not', 'praised', 'president', 'pressing', 'shows', 'step', 'that', 'the', 'to', 'truly', 'waiver', 'which', 'who']\n",
      "Score. {} 1.4913616938342726\n",
      "['19', '2012', 'and', 'announced', 'biden', 'chars', 'covid', 'discounted', 'everyone', 'free', 'from', 'has', 'in', 'joe', 'lyft', 'next', 'offer', 'partnership', 'president', 'program', 'rides', 'sites', 'start', 'the', 'to', 'two', 'uber', 'us', 'vaccination', 'will', 'with']\n",
      "Score. {} 1.4913616938342726\n",
      "['2021', '3547', 'chars', 'class', 'college', 'covid', 'faces', 'from', 'graduated', 'great', 'grim', 'howe', 'improved', 'in', 'its', 'job', 'last', 'like', 'market', 'millennials', 'much', 'of', 'prospects', 'recession', 'remarkably', 'still', 'stricken', 'the', 'who', 'years']\n",
      "Score. {} 1.4771212547196624\n",
      "['19', '2269', 'according', 'alex', 'anymore', 'by', 'castro', 'chars', 'claims', 'covid', 'decision', 'facebook', 'illustration', 'in', 'investigations', 'light', 'made', 'man', 'of', 'ongoing', 'remove', 'report', 'said', 'spokesperson', 'that', 'the', 'to', 'verge', 'was', 'wont']\n",
      "Score. {} 1.4771212547196624\n"
     ]
    }
   ],
   "source": [
    "min = 2\n",
    "global art \n",
    "for i in data['articles']:\n",
    "    start = datetime.datetime.now()\n",
    "\n",
    "    query = \"identified with the drug-trial pipeline\"\n",
    "    score = main(json=i.get('content'), query=query)\n",
    "    print(\"Score.{}\", format(score))\n",
    "    if score<min:\n",
    "        min = score\n",
    "        art=i\n",
    "    end = datetime.datetime.now()"
   ]
  },
  {
   "cell_type": "code",
   "execution_count": 21,
   "id": "18ab43d5",
   "metadata": {},
   "outputs": [
    {
     "name": "stdout",
     "output_type": "stream",
     "text": [
      "1.4771212547196624\n",
      "Paul also said health officials needed to prove that the vaccine is better than being infected and producing antibodies.\r\n",
      "No, they dont. They dont have to prove that seatbelts are better than acciden… [+1277 chars]\n"
     ]
    }
   ],
   "source": [
    "print (score)\n",
    "print(art['content'])"
   ]
  },
  {
   "cell_type": "code",
   "execution_count": 11,
   "id": "e5b46c7c",
   "metadata": {},
   "outputs": [],
   "source": [
    "df = pd.DataFrame(art)"
   ]
  },
  {
   "cell_type": "code",
   "execution_count": 12,
   "id": "772a2dba",
   "metadata": {},
   "outputs": [
    {
     "name": "stdout",
     "output_type": "stream",
     "text": [
      "              source        author  \\\n",
      "id              None  Trish Bendix   \n",
      "name  New York Times  Trish Bendix   \n",
      "\n",
      "                                                  title  \\\n",
      "id    Stephen Colbert: Rand Paul ‘Randsplained’ His ...   \n",
      "name  Stephen Colbert: Rand Paul ‘Randsplained’ His ...   \n",
      "\n",
      "                                            description  \\\n",
      "id    “Senator Paul has been a bit of a skeptic of h...   \n",
      "name  “Senator Paul has been a bit of a skeptic of h...   \n",
      "\n",
      "                                                    url  \\\n",
      "id    https://www.nytimes.com/2021/05/25/arts/televi...   \n",
      "name  https://www.nytimes.com/2021/05/25/arts/televi...   \n",
      "\n",
      "                                             urlToImage           publishedAt  \\\n",
      "id    https://static01.nyt.com/images/2021/05/25/art...  2021-05-25T06:56:00Z   \n",
      "name  https://static01.nyt.com/images/2021/05/25/art...  2021-05-25T06:56:00Z   \n",
      "\n",
      "                                                content  \n",
      "id    Paul also said health officials needed to prov...  \n",
      "name  Paul also said health officials needed to prov...  \n"
     ]
    }
   ],
   "source": [
    "print(df)"
   ]
  },
  {
   "cell_type": "code",
   "execution_count": 46,
   "id": "8d9785f0",
   "metadata": {},
   "outputs": [
    {
     "data": {
      "text/plain": [
       "dict_keys(['source', 'author', 'title', 'description', 'url', 'urlToImage', 'publishedAt', 'content'])"
      ]
     },
     "execution_count": 46,
     "metadata": {},
     "output_type": "execute_result"
    }
   ],
   "source": [
    "art.keys()"
   ]
  },
  {
   "cell_type": "code",
   "execution_count": null,
   "id": "38d4307a",
   "metadata": {},
   "outputs": [],
   "source": []
  }
 ],
 "metadata": {
  "kernelspec": {
   "display_name": "Python 3",
   "language": "python",
   "name": "python3"
  },
  "language_info": {
   "codemirror_mode": {
    "name": "ipython",
    "version": 3
   },
   "file_extension": ".py",
   "mimetype": "text/x-python",
   "name": "python",
   "nbconvert_exporter": "python",
   "pygments_lexer": "ipython3",
   "version": "3.8.8"
  }
 },
 "nbformat": 4,
 "nbformat_minor": 5
}
