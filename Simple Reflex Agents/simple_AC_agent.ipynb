{
 "cells": [
  {
   "cell_type": "code",
   "execution_count": 1,
   "metadata": {},
   "outputs": [],
   "source": [
    "import random\n",
    "random.seed(10)"
   ]
  },
  {
   "cell_type": "code",
   "execution_count": 14,
   "metadata": {},
   "outputs": [],
   "source": [
    "class random_environment:\n",
    "    def __init__(self):\n",
    "        self.duration = random.randint(10,100)\n",
    "        self.property = {}\n",
    "        for pos in range(self.duration):\n",
    "            tem = {\"temp\": random.randint(15, 35), \"weather\": random.choice([\"high humidity\", \"low humidity\"])}\n",
    "            self.property[pos]= tem\n",
    "       # print(self.property)\n",
    "    def get_duration(self):\n",
    "        return self.duration\n",
    "    \n",
    "    def get_property(self,pos):\n",
    "        return self.property"
   ]
  },
  {
   "cell_type": "code",
   "execution_count": 12,
   "metadata": {},
   "outputs": [],
   "source": [
    "class env_aware_agent:\n",
    "    def __init__(self):\n",
    "        self.time = 0\n",
    "        self.temp = int(input(\"Enter AC temperature\"))\n",
    "        self.comp = \"ON\"\n",
    "        self.fan = \"High\"\n",
    "        self.mode = \"Cool\"\n",
    "    def adjust(self, env):\n",
    "        if self.time < env.get_duration() :\n",
    "            if env.get_property(self.time)[self.time][\"temp\"] > self.temp and env.get_property(self.time)[self.time][\"temp\"] < self.temp + 5:\n",
    "                self.fan = \"MED\"\n",
    "                self.comp = \"ON\"\n",
    "            elif env.get_property(self.time)[self.time][\"temp\"] > self.temp + 5 :\n",
    "                self.fan = \"HIGH\"\n",
    "                self.comp = \"ON\"\n",
    "            elif env.get_property(self.time)[self.time][\"temp\"] < self.temp and env.get_property(self.time)[self.time][\"temp\"] > self.temp - 5:\n",
    "                self.fan = \"MED\"\n",
    "                self.comp = \"OFF\"\n",
    "            elif env.get_property(self.time)[self.time][\"temp\"] < self.temp - 5 :\n",
    "                self.fan = \"LOW\"\n",
    "                self.comp = \"OFF\"\n",
    "            \n",
    "            if env.get_property(self.time)[self.time][\"weather\"] == \"high humidity\" :\n",
    "                self.mode = \"Humid\"\n",
    "            else :\n",
    "                self.mode = \"Cool\"\n",
    "            self.state()\n",
    "            self.time += 1\n",
    "            return True\n",
    "        else :\n",
    "            self.tellposition()\n",
    "            print(\"Reached the end!!!!\")\n",
    "            return False\n",
    "    def tellposition(self):\n",
    "        print(\"I am Currently at Position:\", self.time)\n",
    "    def state(self):\n",
    "        print(\"Compressor:\", self.comp, \" Fan:\", self.fan, \" Mode:\", self.mode)\n",
    "        "
   ]
  },
  {
   "cell_type": "markdown",
   "metadata": {},
   "source": []
  },
  {
   "cell_type": "markdown",
   "metadata": {},
   "source": []
  },
  {
   "cell_type": "code",
   "execution_count": 15,
   "metadata": {},
   "outputs": [
    {
     "name": "stdout",
     "output_type": "stream",
     "text": [
      "Enter AC temperature25\n",
      "Compressor: OFF  Fan: MED  Mode: Humid\n",
      "Compressor: OFF  Fan: MED  Mode: Humid\n",
      "Compressor: ON  Fan: HIGH  Mode: Cool\n",
      "Compressor: ON  Fan: HIGH  Mode: Humid\n",
      "Compressor: ON  Fan: HIGH  Mode: Humid\n",
      "Compressor: OFF  Fan: MED  Mode: Humid\n",
      "Compressor: OFF  Fan: MED  Mode: Cool\n",
      "Compressor: ON  Fan: MED  Mode: Humid\n",
      "Compressor: ON  Fan: MED  Mode: Humid\n",
      "Compressor: ON  Fan: MED  Mode: Cool\n",
      "Compressor: OFF  Fan: MED  Mode: Humid\n",
      "Compressor: ON  Fan: MED  Mode: Cool\n",
      "Compressor: OFF  Fan: LOW  Mode: Humid\n",
      "Compressor: ON  Fan: HIGH  Mode: Humid\n",
      "Compressor: ON  Fan: HIGH  Mode: Humid\n",
      "Compressor: OFF  Fan: MED  Mode: Humid\n",
      "Compressor: ON  Fan: MED  Mode: Humid\n",
      "Compressor: ON  Fan: HIGH  Mode: Humid\n",
      "Compressor: ON  Fan: HIGH  Mode: Cool\n",
      "Compressor: ON  Fan: HIGH  Mode: Cool\n",
      "Compressor: ON  Fan: HIGH  Mode: Humid\n",
      "Compressor: ON  Fan: HIGH  Mode: Humid\n",
      "Compressor: ON  Fan: MED  Mode: Cool\n",
      "Compressor: ON  Fan: MED  Mode: Humid\n",
      "Compressor: ON  Fan: MED  Mode: Humid\n",
      "Compressor: OFF  Fan: MED  Mode: Humid\n",
      "Compressor: OFF  Fan: LOW  Mode: Humid\n",
      "Compressor: OFF  Fan: MED  Mode: Humid\n",
      "Compressor: OFF  Fan: MED  Mode: Cool\n",
      "Compressor: OFF  Fan: MED  Mode: Cool\n",
      "Compressor: OFF  Fan: LOW  Mode: Cool\n",
      "Compressor: ON  Fan: HIGH  Mode: Humid\n",
      "Compressor: OFF  Fan: LOW  Mode: Humid\n",
      "Compressor: ON  Fan: MED  Mode: Humid\n",
      "Compressor: ON  Fan: MED  Mode: Humid\n",
      "Compressor: ON  Fan: MED  Mode: Humid\n",
      "Compressor: ON  Fan: MED  Mode: Humid\n",
      "Compressor: ON  Fan: MED  Mode: Cool\n",
      "Compressor: OFF  Fan: LOW  Mode: Humid\n",
      "Compressor: OFF  Fan: LOW  Mode: Cool\n",
      "Compressor: ON  Fan: HIGH  Mode: Cool\n",
      "I am Currently at Position: 41\n",
      "Reached the end!!!!\n"
     ]
    }
   ],
   "source": [
    "agent = env_aware_agent()\n",
    "env = random_environment()\n",
    "status = True\n",
    "while(status):\n",
    "    status = agent.adjust(env)"
   ]
  },
  {
   "cell_type": "code",
   "execution_count": 3,
   "metadata": {},
   "outputs": [
    {
     "name": "stdout",
     "output_type": "stream",
     "text": [
      "<bound method random_environment.get_property of <__main__.random_environment object at 0x00000250E9C8CF40>>\n"
     ]
    }
   ],
   "source": [
    "env = random_environment()\n",
    "print(env.get_property)"
   ]
  },
  {
   "cell_type": "code",
   "execution_count": null,
   "metadata": {},
   "outputs": [],
   "source": []
  }
 ],
 "metadata": {
  "kernelspec": {
   "display_name": "Python 3",
   "language": "python",
   "name": "python3"
  },
  "language_info": {
   "codemirror_mode": {
    "name": "ipython",
    "version": 3
   },
   "file_extension": ".py",
   "mimetype": "text/x-python",
   "name": "python",
   "nbconvert_exporter": "python",
   "pygments_lexer": "ipython3",
   "version": "3.8.5"
  }
 },
 "nbformat": 4,
 "nbformat_minor": 4
}
